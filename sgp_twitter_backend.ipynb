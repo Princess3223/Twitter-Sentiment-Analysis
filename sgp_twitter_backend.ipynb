{
 "cells": [
  {
   "cell_type": "code",
   "execution_count": 4,
   "metadata": {},
   "outputs": [
    {
     "name": "stdout",
     "output_type": "stream",
     "text": [
      "Collecting tweepyNote: you may need to restart the kernel to use updated packages.\n",
      "  Downloading tweepy-3.10.0-py2.py3-none-any.whl (30 kB)\n",
      "Requirement already satisfied: six>=1.10.0 in c:\\users\\lenovo\\anaconda3\\lib\\site-packages (from tweepy) (1.15.0)\n",
      "Requirement already satisfied: requests[socks]>=2.11.1 in c:\\users\\lenovo\\anaconda3\\lib\\site-packages (from tweepy) (2.24.0)\n",
      "Collecting requests-oauthlib>=0.7.0\n",
      "  Downloading requests_oauthlib-1.3.0-py2.py3-none-any.whl (23 kB)\n",
      "Requirement already satisfied: chardet<4,>=3.0.2 in c:\\users\\lenovo\\anaconda3\\lib\\site-packages (from requests[socks]>=2.11.1->tweepy) (3.0.4)\n",
      "\n",
      "Requirement already satisfied: certifi>=2017.4.17 in c:\\users\\lenovo\\anaconda3\\lib\\site-packages (from requests[socks]>=2.11.1->tweepy) (2021.5.30)\n",
      "Requirement already satisfied: idna<3,>=2.5 in c:\\users\\lenovo\\anaconda3\\lib\\site-packages (from requests[socks]>=2.11.1->tweepy) (2.10)\n",
      "Requirement already satisfied: urllib3!=1.25.0,!=1.25.1,<1.26,>=1.21.1 in c:\\users\\lenovo\\anaconda3\\lib\\site-packages (from requests[socks]>=2.11.1->tweepy) (1.25.9)\n",
      "Requirement already satisfied: PySocks!=1.5.7,>=1.5.6; extra == \"socks\" in c:\\users\\lenovo\\anaconda3\\lib\\site-packages (from requests[socks]>=2.11.1->tweepy) (1.7.1)\n",
      "Collecting oauthlib>=3.0.0\n",
      "  Downloading oauthlib-3.1.1-py2.py3-none-any.whl (146 kB)\n",
      "Installing collected packages: oauthlib, requests-oauthlib, tweepy\n",
      "Successfully installed oauthlib-3.1.1 requests-oauthlib-1.3.0 tweepy-3.10.0\n"
     ]
    }
   ],
   "source": [
    "pip install tweepy"
   ]
  },
  {
   "cell_type": "code",
   "execution_count": 5,
   "metadata": {},
   "outputs": [
    {
     "name": "stdout",
     "output_type": "stream",
     "text": [
      "Collecting TextBlobNote: you may need to restart the kernel to use updated packages.\n",
      "  Downloading textblob-0.15.3-py2.py3-none-any.whl (636 kB)\n",
      "Requirement already satisfied: nltk>=3.1 in c:\\users\\lenovo\\anaconda3\\lib\\site-packages (from TextBlob) (3.5)\n",
      "Requirement already satisfied: regex in c:\\users\\lenovo\\anaconda3\\lib\\site-packages (from nltk>=3.1->TextBlob) (2020.6.8)\n",
      "Requirement already satisfied: tqdm in c:\\users\\lenovo\\anaconda3\\lib\\site-packages (from nltk>=3.1->TextBlob) (4.47.0)\n",
      "\n",
      "Requirement already satisfied: joblib in c:\\users\\lenovo\\anaconda3\\lib\\site-packages (from nltk>=3.1->TextBlob) (0.15.1)\n",
      "Requirement already satisfied: click in c:\\users\\lenovo\\anaconda3\\lib\\site-packages (from nltk>=3.1->TextBlob) (7.1.2)\n",
      "Installing collected packages: TextBlob\n",
      "Successfully installed TextBlob-0.15.3\n"
     ]
    }
   ],
   "source": [
    "pip install TextBlob\n"
   ]
  },
  {
   "cell_type": "code",
   "execution_count": 17,
   "metadata": {},
   "outputs": [
    {
     "name": "stdout",
     "output_type": "stream",
     "text": [
      "Sentiment(polarity=0.9099999999999999, subjectivity=0.7800000000000001)\n",
      "Sentiment(polarity=1.0, subjectivity=1.0)\n",
      "Sentiment(polarity=-0.6999999999999998, subjectivity=0.6666666666666666)\n"
     ]
    }
   ],
   "source": [
    "import tweepy\n",
    "from textblob import TextBlob\n",
    "\n",
    "f1 = \"The Food is was very good\"\n",
    "f2 = \"The Food is awesome\"\n",
    "f3 = \"The Food is bad\"\n",
    "blob1 = TextBlob(f1)\n",
    "blob2 = TextBlob(f2)\n",
    "blob3 = TextBlob(f3)\n",
    "print(blob1.sentiment)\n",
    "print(blob2.sentiment)\n",
    "print(blob3.sentiment)\n"
   ]
  },
  {
   "cell_type": "code",
   "execution_count": 24,
   "metadata": {},
   "outputs": [
    {
     "name": "stdout",
     "output_type": "stream",
     "text": [
      "RT @YUVSTRONG12: Saddened to hear of the untimely passing away of the young and talented Siddharth Shukla. My deepest condolences to his fa…\n",
      "Sentiment(polarity=0.39999999999999997, subjectivity=0.65)\n",
      "RT @Bilalpasha007: Siddharth Shukla was a only guy who spoke to me During Second Wave Regarding the Oxygen,Beds Availability in Mumbai and…\n",
      "Sentiment(polarity=0.0, subjectivity=0.5)\n",
      "RT @ShivAroor: BREAKING: Actor Siddharth Shukla dead after a heart attack, Mumbai’s Cooper Hospital confirms the news https://t.co/7kLO1MQK…\n",
      "Sentiment(polarity=-0.2, subjectivity=0.4)\n",
      "ମା’ଙ୍କ ପସନ୍ଦରେ ଅଭିନୟ ଦୁନିଆକୁ ଆସିଥିଲେ ସିଦ୍ଧାର୍ଥ, ଏହି ସିରିଏଲ୍ ଦେଇଥିଲା ପରିଚୟ #Odisha #Bhubaneswar #SidharthShukla  https://t.co/TA1Wu2o7GS\n",
      "Sentiment(polarity=0.0, subjectivity=0.0)\n",
      "RT @indiatvnews: BREAKING: Bigg Boss 13 winner #SidharthShukla passes away on Monday. He was 40. Siddharth, the winner of Bigg Boss 13 was…\n",
      "Sentiment(polarity=0.0, subjectivity=0.0)\n",
      "RT @shreemiverma: please spare siddharth shukla's partner from the absolute drivel social media and our news channels are about to spiel\n",
      "Sentiment(polarity=0.11666666666666667, subjectivity=0.48333333333333334)\n",
      "RT @AlphaVictorVA: Siddharth Shukla dead. Is it a Heart Attack or a Murder @MumbaiPolice ???\n",
      "Sentiment(polarity=-0.2, subjectivity=0.4)\n",
      "RT @shekharsuman7: Extremely sad n shocked to hear about Siddharth Shukla's sudden https://t.co/eoDmwBvHkS heart goes out to his family and…\n",
      "Sentiment(polarity=-0.39999999999999997, subjectivity=0.7666666666666666)\n",
      "RT @YUVSTRONG12: Saddened to hear of the untimely passing away of the young and talented Siddharth Shukla. My deepest condolences to his fa…\n",
      "Sentiment(polarity=0.39999999999999997, subjectivity=0.65)\n",
      "RT @saurabhbolly: ASIM RIAZ BROKE DOWN into tears HEARING NEWS OF SIDDHARTH SHUKLA DEATH\n",
      "\n",
      "#asimriaz @asimriaz77.official #siddharthshuklade…\n",
      "Sentiment(polarity=-0.15555555555555559, subjectivity=0.2888888888888889)\n",
      "RT @tamannaahspeaks: Deeply saddened to hear the news of Siddharth Shukla’s passing. \n",
      "My heartfelt condolences to his family and loved ones…\n",
      "Sentiment(polarity=0.2333333333333333, subjectivity=0.7333333333333334)\n",
      "RT @iAmNehaKakkar: My heart and brain is numb right now……. Can’t believe……. Rest in peace Siddharth Shukla 😔🙏🏼 Condolences to his Family an…\n",
      "Sentiment(polarity=-0.15714285714285714, subjectivity=0.7678571428571428)\n",
      "RT @rohan4747: Absolutely shocked to know about @sidharth_shukla ’s death. Totally numb. Life is so unpredictable. My condolences to his fa…\n",
      "Sentiment(polarity=-0.4888888888888889, subjectivity=0.9333333333333332)\n",
      "RT @thispodcastguy: Mark my words, Republic TV and Times Now are going to create the conspiracy theory out of Siddharth Shukla’s death.\n",
      "Sentiment(polarity=0.0, subjectivity=0.0)\n",
      "RT @htTweets: Popular television and film actor #SidharthShukla died today after a heart attack\n",
      "\n",
      "https://t.co/JfIbdP984H https://t.co/cjq0o…\n",
      "Sentiment(polarity=0.6, subjectivity=0.9)\n"
     ]
    }
   ],
   "source": [
    "import tweepy\n",
    "from textblob import TextBlob\n",
    "\n",
    "consumer_key = 'ZSTjRgpSwrcpgLDqTug1tnHVS'\n",
    "consumer_secret = '2mfFBHGIV0OT7b5LbgWrAbBhoyr3tB7GiGTtCGiz0pN8S9EFKv'\n",
    "access_token = '1014097837381111808-1ZmyTn9NwXhnlnH3rLJdjLg7WmwFTG'\n",
    "access_token_secret = 'siiC7b529NpcGT8uwopjOaauSRZoUQdlN38mLL0gX2TLK'\n",
    "auth = tweepy.OAuthHandler(consumer_key,consumer_secret)\n",
    "auth.set_access_token(access_token,access_token_secret)\n",
    "\n",
    "api = tweepy.API(auth)\n",
    "public_tweets = api.search('Siddharth Shukla')\n",
    "\n",
    "for tweet in public_tweets:\n",
    "    print(tweet.text)\n",
    "    analysis = TextBlob(tweet.text)\n",
    "    print(analysis.sentiment)\n"
   ]
  },
  {
   "cell_type": "code",
   "execution_count": 26,
   "metadata": {},
   "outputs": [
    {
     "name": "stdout",
     "output_type": "stream",
     "text": [
      "Collecting WordCloudNote: you may need to restart the kernel to use updated packages.\n",
      "\n",
      "  Downloading wordcloud-1.8.1-cp37-cp37m-win_amd64.whl (154 kB)\n",
      "Requirement already satisfied: matplotlib in c:\\users\\lenovo\\anaconda3\\lib\\site-packages (from WordCloud) (3.2.2)\n",
      "Requirement already satisfied: numpy>=1.6.1 in c:\\users\\lenovo\\anaconda3\\lib\\site-packages (from WordCloud) (1.18.5)\n",
      "Requirement already satisfied: pillow in c:\\users\\lenovo\\anaconda3\\lib\\site-packages (from WordCloud) (7.1.2)\n",
      "Requirement already satisfied: cycler>=0.10 in c:\\users\\lenovo\\anaconda3\\lib\\site-packages (from matplotlib->WordCloud) (0.10.0)\n",
      "Requirement already satisfied: python-dateutil>=2.1 in c:\\users\\lenovo\\anaconda3\\lib\\site-packages (from matplotlib->WordCloud) (2.8.1)\n",
      "Requirement already satisfied: pyparsing!=2.0.4,!=2.1.2,!=2.1.6,>=2.0.1 in c:\\users\\lenovo\\anaconda3\\lib\\site-packages (from matplotlib->WordCloud) (2.4.7)\n",
      "Requirement already satisfied: kiwisolver>=1.0.1 in c:\\users\\lenovo\\anaconda3\\lib\\site-packages (from matplotlib->WordCloud) (1.2.0)\n",
      "Requirement already satisfied: six in c:\\users\\lenovo\\anaconda3\\lib\\site-packages (from cycler>=0.10->matplotlib->WordCloud) (1.15.0)\n",
      "Installing collected packages: WordCloud\n",
      "Successfully installed WordCloud-1.8.1\n"
     ]
    }
   ],
   "source": [
    "pip install WordCloud\n"
   ]
  },
  {
   "cell_type": "code",
   "execution_count": 1,
   "metadata": {},
   "outputs": [],
   "source": [
    "#import library\n",
    "import tweepy\n",
    "from textblob import TextBlob\n",
    "from wordcloud import WordCloud\n",
    "import pandas as pd\n",
    "import numpy as np\n",
    "import re\n",
    "import matplotlib.pyplot as plt\n"
   ]
  },
  {
   "cell_type": "code",
   "execution_count": 9,
   "metadata": {},
   "outputs": [],
   "source": [
    "#Twiiter Api \n",
    "consumer_key = 'Xc3AoX3bBdTYTbg27oQ2CRTQN'\n",
    "consumer_secret = 'LevIxZ7VKDAqGtNZ1D2nLbTvnw6vvqGF6WUbAKtc0l9k1Budy6'\n",
    "access_token = '799422922800635904-eo9u38Ywri0nNkwRfc8cuVcqTooMBCx'\n",
    "access_token_secret = 'W0m3pTrfNcssVE2mmw1ba3wxneUnm2emcinRWXv7bzOH1'\n"
   ]
  },
  {
   "cell_type": "code",
   "execution_count": 10,
   "metadata": {},
   "outputs": [],
   "source": [
    "#Create Authentication object \n",
    "auth = tweepy.OAuthHandler(consumer_key,consumer_secret)\n",
    "auth.set_access_token(access_token,access_token_secret)\n",
    "\n",
    "api = tweepy.API(auth)\n",
    "\n"
   ]
  },
  {
   "cell_type": "code",
   "execution_count": 18,
   "metadata": {},
   "outputs": [
    {
     "name": "stdout",
     "output_type": "stream",
     "text": [
      "Show last 5 tweets :\n",
      "1)A Los Angeles man pleads guilty to participating in what prosecutors called a “textbook Ponzi scheme” that defrauded cryptocurrency investors worldwide of more than $2 billion, AP reports https://t.co/gZJfF1nEZk\n",
      "\n",
      "2)RT @BloombergTV: \"It's a phenomenon, I can't deny it, but equally I have to assess the risks to clients,\" says HSBC CEO Noel Quinn when ask…\n",
      "\n",
      "3)Chinese crypto miners who were forced to pull the plug on their energy-hungry machines following a government crackdown may have already begun the process of turning them back on overseas https://t.co/pThLzFUzCt\n",
      "\n",
      "4)Binance must stop offering services regulated in Singapore after a potential breach of local payment rules https://t.co/haVXxXsoim $BNB\n",
      "\n",
      "5)Day traders are going all-in on NFTs, leaving cryptocurrencies and meme stocks in the dust https://t.co/AvyjBswTaT\n",
      "\n"
     ]
    }
   ],
   "source": [
    "posts = api.user_timeline(screen_name='Crypto',count=100,lang='en',tweet_mode='extended')\n",
    "\n",
    "#print last 5 tweets \n",
    "print(\"Show last 5 tweets :\")\n",
    "\n",
    "i=1\n",
    "for tweet in posts[0:5]:\n",
    "    print(str(i) + ')' +tweet.full_text + '\\n')\n",
    "    i = i+1"
   ]
  },
  {
   "cell_type": "code",
   "execution_count": 25,
   "metadata": {},
   "outputs": [
    {
     "data": {
      "text/html": [
       "<div>\n",
       "<style scoped>\n",
       "    .dataframe tbody tr th:only-of-type {\n",
       "        vertical-align: middle;\n",
       "    }\n",
       "\n",
       "    .dataframe tbody tr th {\n",
       "        vertical-align: top;\n",
       "    }\n",
       "\n",
       "    .dataframe thead th {\n",
       "        text-align: right;\n",
       "    }\n",
       "</style>\n",
       "<table border=\"1\" class=\"dataframe\">\n",
       "  <thead>\n",
       "    <tr style=\"text-align: right;\">\n",
       "      <th></th>\n",
       "      <th>Tweets</th>\n",
       "    </tr>\n",
       "  </thead>\n",
       "  <tbody>\n",
       "    <tr>\n",
       "      <th>0</th>\n",
       "      <td>A Los Angeles man pleads guilty to participati...</td>\n",
       "    </tr>\n",
       "    <tr>\n",
       "      <th>1</th>\n",
       "      <td>RT @BloombergTV: \"It's a phenomenon, I can't d...</td>\n",
       "    </tr>\n",
       "    <tr>\n",
       "      <th>2</th>\n",
       "      <td>Chinese crypto miners who were forced to pull ...</td>\n",
       "    </tr>\n",
       "    <tr>\n",
       "      <th>3</th>\n",
       "      <td>Binance must stop offering services regulated ...</td>\n",
       "    </tr>\n",
       "    <tr>\n",
       "      <th>4</th>\n",
       "      <td>Day traders are going all-in on NFTs, leaving ...</td>\n",
       "    </tr>\n",
       "  </tbody>\n",
       "</table>\n",
       "</div>"
      ],
      "text/plain": [
       "                                              Tweets\n",
       "0  A Los Angeles man pleads guilty to participati...\n",
       "1  RT @BloombergTV: \"It's a phenomenon, I can't d...\n",
       "2  Chinese crypto miners who were forced to pull ...\n",
       "3  Binance must stop offering services regulated ...\n",
       "4  Day traders are going all-in on NFTs, leaving ..."
      ]
     },
     "execution_count": 25,
     "metadata": {},
     "output_type": "execute_result"
    }
   ],
   "source": [
    "#create a data frame\n",
    "df = pd.DataFrame( [tweet.full_text for tweet in posts] , columns=['Tweets'])\n",
    "\n",
    "df.head()"
   ]
  },
  {
   "cell_type": "code",
   "execution_count": 1,
   "metadata": {},
   "outputs": [
    {
     "ename": "NameError",
     "evalue": "name 'df' is not defined",
     "output_type": "error",
     "traceback": [
      "\u001b[1;31m---------------------------------------------------------------------------\u001b[0m",
      "\u001b[1;31mNameError\u001b[0m                                 Traceback (most recent call last)",
      "\u001b[1;32mC:\\Users\\PRINCE~1\\AppData\\Local\\Temp/ipykernel_8404/3003512658.py\u001b[0m in \u001b[0;36m<module>\u001b[1;34m\u001b[0m\n\u001b[0;32m     10\u001b[0m \u001b[1;33m\u001b[0m\u001b[0m\n\u001b[0;32m     11\u001b[0m \u001b[1;31m#Cleaning the text\u001b[0m\u001b[1;33m\u001b[0m\u001b[1;33m\u001b[0m\u001b[1;33m\u001b[0m\u001b[0m\n\u001b[1;32m---> 12\u001b[1;33m \u001b[0mdf\u001b[0m\u001b[1;33m[\u001b[0m\u001b[1;34m'Tweets'\u001b[0m\u001b[1;33m]\u001b[0m \u001b[1;33m=\u001b[0m \u001b[0mdf\u001b[0m\u001b[1;33m[\u001b[0m\u001b[1;34m'Tweets'\u001b[0m\u001b[1;33m]\u001b[0m\u001b[1;33m.\u001b[0m\u001b[0mapply\u001b[0m\u001b[1;33m(\u001b[0m\u001b[0mcleanTxt\u001b[0m\u001b[1;33m)\u001b[0m\u001b[1;33m\u001b[0m\u001b[1;33m\u001b[0m\u001b[0m\n\u001b[0m\u001b[0;32m     13\u001b[0m \u001b[1;33m\u001b[0m\u001b[0m\n\u001b[0;32m     14\u001b[0m \u001b[0mdf\u001b[0m\u001b[1;33m\u001b[0m\u001b[1;33m\u001b[0m\u001b[0m\n",
      "\u001b[1;31mNameError\u001b[0m: name 'df' is not defined"
     ]
    }
   ],
   "source": [
    "#cleaning Process :\n",
    "\n",
    "def cleanTxt(text):\n",
    "    text = re.sub(r'@[A-Za-z0-9]+','',text) #removed mentions\n",
    "    text = re.sub(r'#','',text) #removed Hastags\n",
    "    text = re.sub(r'RT[\\s]+', '',text) #removing RT\n",
    "    text = re.sub(r'https?:\\/\\/\\S+', '' , text) #removing Hypertext link\n",
    "    \n",
    "    return text\n",
    "\n",
    "#Cleaning the text\n",
    "df['Tweets'] = df['Tweets'].apply(cleanTxt)\n",
    "\n",
    "df\n",
    "    "
   ]
  },
  {
   "cell_type": "code",
   "execution_count": 40,
   "metadata": {},
   "outputs": [
    {
     "data": {
      "text/html": [
       "<div>\n",
       "<style scoped>\n",
       "    .dataframe tbody tr th:only-of-type {\n",
       "        vertical-align: middle;\n",
       "    }\n",
       "\n",
       "    .dataframe tbody tr th {\n",
       "        vertical-align: top;\n",
       "    }\n",
       "\n",
       "    .dataframe thead th {\n",
       "        text-align: right;\n",
       "    }\n",
       "</style>\n",
       "<table border=\"1\" class=\"dataframe\">\n",
       "  <thead>\n",
       "    <tr style=\"text-align: right;\">\n",
       "      <th></th>\n",
       "      <th>Tweets</th>\n",
       "      <th>Subjectivity</th>\n",
       "      <th>Polarity</th>\n",
       "    </tr>\n",
       "  </thead>\n",
       "  <tbody>\n",
       "    <tr>\n",
       "      <th>0</th>\n",
       "      <td>A Los Angeles man pleads guilty to participati...</td>\n",
       "      <td>0.750000</td>\n",
       "      <td>0.000000</td>\n",
       "    </tr>\n",
       "    <tr>\n",
       "      <th>1</th>\n",
       "      <td>: \"It's a phenomenon, I can't deny it, but equ...</td>\n",
       "      <td>0.250000</td>\n",
       "      <td>0.000000</td>\n",
       "    </tr>\n",
       "    <tr>\n",
       "      <th>2</th>\n",
       "      <td>Chinese crypto miners who were forced to pull ...</td>\n",
       "      <td>0.075000</td>\n",
       "      <td>-0.075000</td>\n",
       "    </tr>\n",
       "    <tr>\n",
       "      <th>3</th>\n",
       "      <td>Binance must stop offering services regulated ...</td>\n",
       "      <td>0.500000</td>\n",
       "      <td>0.000000</td>\n",
       "    </tr>\n",
       "    <tr>\n",
       "      <th>4</th>\n",
       "      <td>Day traders are going all-in on NFTs, leaving ...</td>\n",
       "      <td>0.000000</td>\n",
       "      <td>0.000000</td>\n",
       "    </tr>\n",
       "    <tr>\n",
       "      <th>...</th>\n",
       "      <td>...</td>\n",
       "      <td>...</td>\n",
       "      <td>...</td>\n",
       "    </tr>\n",
       "    <tr>\n",
       "      <th>95</th>\n",
       "      <td>El Salvador began installing Bitcoin ATMs, all...</td>\n",
       "      <td>0.000000</td>\n",
       "      <td>0.000000</td>\n",
       "    </tr>\n",
       "    <tr>\n",
       "      <th>96</th>\n",
       "      <td>: Traditional financial institutions will neve...</td>\n",
       "      <td>0.250000</td>\n",
       "      <td>-0.062500</td>\n",
       "    </tr>\n",
       "    <tr>\n",
       "      <th>97</th>\n",
       "      <td>LATEST: Bitcoin tops the closely watched $50,0...</td>\n",
       "      <td>0.900000</td>\n",
       "      <td>0.500000</td>\n",
       "    </tr>\n",
       "    <tr>\n",
       "      <th>98</th>\n",
       "      <td>NEW: The Cal Golden Bears will play their home...</td>\n",
       "      <td>0.618182</td>\n",
       "      <td>0.312121</td>\n",
       "    </tr>\n",
       "    <tr>\n",
       "      <th>99</th>\n",
       "      <td>Binance Singapore names former Singapore Excha...</td>\n",
       "      <td>0.000000</td>\n",
       "      <td>0.000000</td>\n",
       "    </tr>\n",
       "  </tbody>\n",
       "</table>\n",
       "<p>100 rows × 3 columns</p>\n",
       "</div>"
      ],
      "text/plain": [
       "                                               Tweets  Subjectivity  Polarity\n",
       "0   A Los Angeles man pleads guilty to participati...      0.750000  0.000000\n",
       "1   : \"It's a phenomenon, I can't deny it, but equ...      0.250000  0.000000\n",
       "2   Chinese crypto miners who were forced to pull ...      0.075000 -0.075000\n",
       "3   Binance must stop offering services regulated ...      0.500000  0.000000\n",
       "4   Day traders are going all-in on NFTs, leaving ...      0.000000  0.000000\n",
       "..                                                ...           ...       ...\n",
       "95  El Salvador began installing Bitcoin ATMs, all...      0.000000  0.000000\n",
       "96  : Traditional financial institutions will neve...      0.250000 -0.062500\n",
       "97  LATEST: Bitcoin tops the closely watched $50,0...      0.900000  0.500000\n",
       "98  NEW: The Cal Golden Bears will play their home...      0.618182  0.312121\n",
       "99  Binance Singapore names former Singapore Excha...      0.000000  0.000000\n",
       "\n",
       "[100 rows x 3 columns]"
      ]
     },
     "execution_count": 40,
     "metadata": {},
     "output_type": "execute_result"
    }
   ],
   "source": [
    "def getSubjectivity(text):\n",
    "    return TextBlob(text).sentiment.subjectivity\n",
    "\n",
    "#polarity\n",
    "def getPolarity(text):\n",
    "    return TextBlob(text).sentiment.polarity\n",
    "\n",
    "#create two new columns\n",
    "df['Subjectivity'] = df['Tweets'].apply(getSubjectivity)\n",
    "df['Polarity'] = df['Tweets'].apply(getPolarity)\n",
    "\n",
    "df"
   ]
  },
  {
   "cell_type": "code",
   "execution_count": 41,
   "metadata": {},
   "outputs": [
    {
     "data": {
      "image/png": "[encoded data removed]",
      "text/plain": [
       "<Figure size 432x288 with 1 Axes>"
      ]
     },
     "metadata": {
      "needs_background": "light"
     },
     "output_type": "display_data"
    }
   ],
   "source": [
    "#plot Wordcloud\n",
    "\n",
    "allWords = ''.join( [twts for twts in df['Tweets']])\n",
    "wordCloud = WordCloud(width = 1000 , height = 1000 , random_state=25 , max_font_size=119).generate(allWords)\n",
    "\n",
    "plt.imshow(wordCloud , interpolation = 'bilinear')\n",
    "plt.axis('off')\n",
    "plt.show()"
   ]
  },
  {
   "cell_type": "code",
   "execution_count": 45,
   "metadata": {},
   "outputs": [
    {
     "data": {
      "text/html": [
       "<div>\n",
       "<style scoped>\n",
       "    .dataframe tbody tr th:only-of-type {\n",
       "        vertical-align: middle;\n",
       "    }\n",
       "\n",
       "    .dataframe tbody tr th {\n",
       "        vertical-align: top;\n",
       "    }\n",
       "\n",
       "    .dataframe thead th {\n",
       "        text-align: right;\n",
       "    }\n",
       "</style>\n",
       "<table border=\"1\" class=\"dataframe\">\n",
       "  <thead>\n",
       "    <tr style=\"text-align: right;\">\n",
       "      <th></th>\n",
       "      <th>Tweets</th>\n",
       "      <th>Subjectivity</th>\n",
       "      <th>Polarity</th>\n",
       "      <th>Analysis</th>\n",
       "    </tr>\n",
       "  </thead>\n",
       "  <tbody>\n",
       "    <tr>\n",
       "      <th>0</th>\n",
       "      <td>A Los Angeles man pleads guilty to participati...</td>\n",
       "      <td>0.750000</td>\n",
       "      <td>0.000000</td>\n",
       "      <td>Neutral</td>\n",
       "    </tr>\n",
       "    <tr>\n",
       "      <th>1</th>\n",
       "      <td>: \"It's a phenomenon, I can't deny it, but equ...</td>\n",
       "      <td>0.250000</td>\n",
       "      <td>0.000000</td>\n",
       "      <td>Neutral</td>\n",
       "    </tr>\n",
       "    <tr>\n",
       "      <th>2</th>\n",
       "      <td>Chinese crypto miners who were forced to pull ...</td>\n",
       "      <td>0.075000</td>\n",
       "      <td>-0.075000</td>\n",
       "      <td>Negative</td>\n",
       "    </tr>\n",
       "    <tr>\n",
       "      <th>3</th>\n",
       "      <td>Binance must stop offering services regulated ...</td>\n",
       "      <td>0.500000</td>\n",
       "      <td>0.000000</td>\n",
       "      <td>Neutral</td>\n",
       "    </tr>\n",
       "    <tr>\n",
       "      <th>4</th>\n",
       "      <td>Day traders are going all-in on NFTs, leaving ...</td>\n",
       "      <td>0.000000</td>\n",
       "      <td>0.000000</td>\n",
       "      <td>Neutral</td>\n",
       "    </tr>\n",
       "    <tr>\n",
       "      <th>...</th>\n",
       "      <td>...</td>\n",
       "      <td>...</td>\n",
       "      <td>...</td>\n",
       "      <td>...</td>\n",
       "    </tr>\n",
       "    <tr>\n",
       "      <th>95</th>\n",
       "      <td>El Salvador began installing Bitcoin ATMs, all...</td>\n",
       "      <td>0.000000</td>\n",
       "      <td>0.000000</td>\n",
       "      <td>Neutral</td>\n",
       "    </tr>\n",
       "    <tr>\n",
       "      <th>96</th>\n",
       "      <td>: Traditional financial institutions will neve...</td>\n",
       "      <td>0.250000</td>\n",
       "      <td>-0.062500</td>\n",
       "      <td>Negative</td>\n",
       "    </tr>\n",
       "    <tr>\n",
       "      <th>97</th>\n",
       "      <td>LATEST: Bitcoin tops the closely watched $50,0...</td>\n",
       "      <td>0.900000</td>\n",
       "      <td>0.500000</td>\n",
       "      <td>Positive</td>\n",
       "    </tr>\n",
       "    <tr>\n",
       "      <th>98</th>\n",
       "      <td>NEW: The Cal Golden Bears will play their home...</td>\n",
       "      <td>0.618182</td>\n",
       "      <td>0.312121</td>\n",
       "      <td>Positive</td>\n",
       "    </tr>\n",
       "    <tr>\n",
       "      <th>99</th>\n",
       "      <td>Binance Singapore names former Singapore Excha...</td>\n",
       "      <td>0.000000</td>\n",
       "      <td>0.000000</td>\n",
       "      <td>Neutral</td>\n",
       "    </tr>\n",
       "  </tbody>\n",
       "</table>\n",
       "<p>100 rows × 4 columns</p>\n",
       "</div>"
      ],
      "text/plain": [
       "                                               Tweets  Subjectivity  Polarity  \\\n",
       "0   A Los Angeles man pleads guilty to participati...      0.750000  0.000000   \n",
       "1   : \"It's a phenomenon, I can't deny it, but equ...      0.250000  0.000000   \n",
       "2   Chinese crypto miners who were forced to pull ...      0.075000 -0.075000   \n",
       "3   Binance must stop offering services regulated ...      0.500000  0.000000   \n",
       "4   Day traders are going all-in on NFTs, leaving ...      0.000000  0.000000   \n",
       "..                                                ...           ...       ...   \n",
       "95  El Salvador began installing Bitcoin ATMs, all...      0.000000  0.000000   \n",
       "96  : Traditional financial institutions will neve...      0.250000 -0.062500   \n",
       "97  LATEST: Bitcoin tops the closely watched $50,0...      0.900000  0.500000   \n",
       "98  NEW: The Cal Golden Bears will play their home...      0.618182  0.312121   \n",
       "99  Binance Singapore names former Singapore Excha...      0.000000  0.000000   \n",
       "\n",
       "    Analysis  \n",
       "0    Neutral  \n",
       "1    Neutral  \n",
       "2   Negative  \n",
       "3    Neutral  \n",
       "4    Neutral  \n",
       "..       ...  \n",
       "95   Neutral  \n",
       "96  Negative  \n",
       "97  Positive  \n",
       "98  Positive  \n",
       "99   Neutral  \n",
       "\n",
       "[100 rows x 4 columns]"
      ]
     },
     "execution_count": 45,
     "metadata": {},
     "output_type": "execute_result"
    }
   ],
   "source": [
    "def getAnalysis(score):\n",
    "    if score < 0:\n",
    "        return 'Negative'\n",
    "    elif score ==0:\n",
    "        return 'Neutral'\n",
    "    else:\n",
    "        return 'Positive'\n",
    "    \n",
    "df['Analysis'] = df['Polarity'].apply(getAnalysis)\n",
    "\n",
    "df"
   ]
  },
  {
   "cell_type": "code",
   "execution_count": 56,
   "metadata": {},
   "outputs": [
    {
     "name": "stdout",
     "output_type": "stream",
     "text": [
      "1)Newly published research raises concerns about the biggest digital token sale on record \n",
      "\n",
      "2)BREAKING: Singapore’s financial regulator says Binance may be in breach of the payment services act for soliciting business without an appropriate license  \n",
      "\n",
      "3)Surging demand for NFTs and DeFi apps is allowing backers of Ethereum to dampen the cacophony of Bitcoin maximalists who have long claimed that only the original cryptocurrency matters  \n",
      "\n",
      "4)Surging demand for NFTs and DeFi apps is allowing Ethereum to dampen the cacophony of Bitcoin maximalists who have long claimed that only the original cryptocurrency matters   \n",
      "\n",
      "5): NEW COVER: Our Cities Issue\n",
      "\n",
      "The guy behind  plans to build the world’s best city, save capitalism, and not…\n",
      "\n",
      "6)Cathie Wood is getting ready to debut a new exchange-traded fund focused on transparency \n",
      "\n",
      "7)The NFT mania is reaching fever pitch on Twitter, the main hangout of crypto enthusiasts, where users are trading stories of expensive purchases and huge returns \n",
      "\n",
      "8)Valkyrie Investments CIO Steven McClurg explains why a quirk in the rules may give the firm the inside track on U.S. Securities and Exchange Commission approval for the first U.S. Bitcoin exchange-traded fund  Via  \n",
      "\n",
      "9)NEW: Fans of the original Doge meme that sold as a NFT for about $4 million in June will have their chance to own a piece of the image  via \n",
      "\n",
      "10)Tennis superstar Naomi Osaka has a new interest: Cryptocurrencies \n",
      "\n",
      "11)NFTs are red hot and everyone speculating on the digital images wants to make that abundantly clear \n",
      "\n",
      "12): FOMO remains alive and well in the cryptocurrency world. Lesser-known crypto coins are outperforming in the wake of recent ra…\n",
      "\n",
      "13)FOMO remains alive and well in the crypto world, with lesser-known tokens outperforming again in the wake of recent rallies staged by industry leaders Bitcoin and Ether  $BTC $ETH\n",
      "\n",
      "14)Cryptocurrency investors are pushing alternatives to Bitcoin and Ether to new highs amid a climb in downloads for cryptocurrency trading apps. Viridi Funds CEO Wes Fulford examines the crypto market moves on   \n",
      "\n",
      "15)Tennis superstar Naomi Osaka has a new interest: Cryptocurrencies \n",
      "\n",
      "16): NEW: Wave after wave of cyberattacks in Australia show the range of tactics experts say China can deploy against any country…\n",
      "\n",
      "17): How is  embracing digital acceleration and change catalyzed by the pandemic through agile adoption? We talk with…\n",
      "\n",
      "18): ⚡️ The billionaire who made the famous bet against subprime housing—and made $20 billion while doing it—says cryptocurrenc…\n",
      "\n",
      "19): \"I would describe cryptocurrencies as a limited supply of nothing.\" \n",
      "\n",
      "John Paulson—who's famous bet against subprime housi…\n",
      "\n",
      "20): NEW: \"I would say that cryptocurrencies are a bubble. I describe them as a limited supply of nothing.\"\n",
      "\n",
      "Billionaire investor…\n",
      "\n",
      "21)FOMO remains alive and well in the crypto world, with lesser-known tokens outperforming again in the wake of recent rallies staged by industry leaders Bitcoin and Ether    \n",
      "\n",
      "22)All anyone in the digital-asset world wants to talk about are NFTs \n",
      "\n",
      "23)Triple your salary by playing a video game? Axie Infinity is becoming an unusual financial lifeline for the pandemic's jobless \n",
      "\n",
      "24)Triple your salary by playing a video game? Axie Infinity is becoming an unusual financial lifeline for the pandemic's jobless \n",
      "\n",
      "25)If you want to know where the 0.01% is partying, follow the superyachts. Here's where they are right now  via \n",
      "\n",
      "26)NEW: Winning a slice of the record billions pouring into the ETF universe starts with that all-important ticker name. We wanted to know — what would it take to buy MEME?\n",
      "\n",
      "Read the Big Take 🔽 \n",
      "\n",
      "27)SEC chairman Gary Gensler has taken a not-so-gentle stance on Bitcoin and U.S.-listed Chinese companies like Alibaba. _ren asks: What do his sound and fury signify?  via \n",
      "\n",
      "28)Wyoming has embraced cryptocurrency—and Senator Cynthia Lummis wants the U.S. to follow  via \n",
      "\n",
      "29)All anyone in the crypto world wants to talk about is NFTs  via \n",
      "\n",
      "30)Wyoming has embraced cryptocurrency—and Senator Cynthia Lummis wants the U.S. to follow  via \n",
      "\n",
      "31)NEW | Billionaire Simon Nixon wants to increase his crypto investments as more of the world’s ultra-rich embrace digital assets  via \n",
      "\n",
      "32)Triple your salary by playing a video game? Axie Infinity is becoming an unusual financial lifeline for the pandemic's jobless \n",
      "\n",
      "33)When times are good, you want to make sure the investors will stick around when things change.  via \n",
      "\n",
      "34)Real-time market data provider Pyth to go live on one of the fastest-growing crypto blockchains \n",
      "\n",
      "35): NEW COVER: For years, Target funded surveillance to make inner cities safe—for some. \n",
      "\n",
      "Now the retailer is trying to convince peopl…\n",
      "\n",
      "36)When times are good, you want to make sure the investors will stick around when things change \n",
      "\n",
      "37)One company thinks it just got the edge in the race for the first Bitcoin ETF \n",
      "\n",
      "38)Bitcoin’s rebound continues with the cryptocurrency eclipsing the $50,000 level for the first time since May. Bloomberg’s  and CoinShares Chief Strategy Officer _Dem discuss the market moves on \n",
      "\n",
      "More on :  \n",
      "\n",
      "39)Watch the inaugural BloombergCrypto Summit on-demand for interviews with _saylor, __carter, _, , , , , and more. 🪙 \n",
      "\n",
      "40)Opinion | NFTs are an incredible innovation that are being used to speculate on silliness  voa \n",
      "\n",
      "41)For Bitcoin \"the positive trend isn’t in any trouble\"  via \n",
      "\n",
      "42)LATEST: Bitcoin tops the closely watched $50,000 level, raising expectations it may take a run toward record highs  via \n",
      "\n",
      "43)NEW: The Cal Golden Bears will play their home opener on FTX Field, the latest naming-rights deal for Sam Bankman-Fried’s crypto exchange  via \n",
      "\n"
     ]
    }
   ],
   "source": [
    "#positive tweets \n",
    "\n",
    "j=1\n",
    "sortedDF = df.sort_values(by=['Polarity'])\n",
    "\n",
    "for i in range(0,sortedDF.shape[0]):\n",
    "    if(sortedDF['Analysis'][i] == 'Positive'):\n",
    "        print(str(j) +')'+ sortedDF['Tweets'][i])\n",
    "        print()\n",
    "        j=j+1\n",
    "    "
   ]
  },
  {
   "cell_type": "code",
   "execution_count": null,
   "metadata": {},
   "outputs": [],
   "source": []
  },
  {
   "cell_type": "code",
   "execution_count": 63,
   "metadata": {},
   "outputs": [
    {
     "name": "stdout",
     "output_type": "stream",
     "text": [
      "1)Chinese crypto miners who were forced to pull the plug on their energy-hungry machines following a government crackdown may have already begun the process of turning them back on overseas \n",
      "\n",
      "2)The SEC is suing the founder of BitConnect for an alleged $2 billion crypto scheme \n",
      "\n",
      "3)On this Odd Lots: Joe and Tracy discuss the future of DeFi with Solana founder  and  of Jump Trading  $SOL\n",
      "\n",
      "4): Billionaire investor John Paulson says cryptocurrencies are a bubble that will “eventually prove to be worthless” \n",
      "\n",
      "5): Cryptocurrencies are a bubble that will \"eventually prove to be worthless,\" billionaire investor John Paulson says \n",
      "\n",
      "6)The IMF raised doubts about El Salvador's Bitcoin embrace. Investors now show little concern  via \n",
      "\n",
      "7)A Pennsylvania Bitcoin miner is burning waste coal and getting government subsidies to do it  via \n",
      "\n",
      "8)A Pennsylvania Bitcoin miner is burning waste coal and getting government subsidies to do it  via \n",
      "\n",
      "9)The IMF raised doubts about El Salvador's Bitcoin embrace. Investors now show little concern  via \n",
      "\n",
      "10)The victim of what was likely the biggest ever theft in the world of decentralized finance, said it has recovered all the funds related to the hack \n",
      "\n",
      "11)Bitcoin’s burst above $50,000 didn’t last long, and chart patterns signal its rally since July is at risk of fading \n",
      "\n",
      "12)“In the past, people probably flexed using a Rolex or expensive car,” said Benjamin Tan, who lives in Singapore. “The new ‘it’ way to flex now is a very exclusive profile picture.”     \n",
      "\n",
      "13)JUST IN | Bitcoin’s burst above $50,000 didn’t last long, and chart patterns signal its rally since July is at risk of fading  via \n",
      "\n",
      "14): Take a closer look at Axie Infinity, the play-to-earn game sweeping the NFT world, where players become crypto traders\n",
      "\n",
      "http…\n",
      "\n",
      "15): \"It's really a lot of money.\"\n",
      "\n",
      "Take a Pokemon-like game, throw in NFTs and you have . The online game backed by…\n",
      "\n",
      "16)Britain’s market regulator says it's “not capable” of supervising Binance Holdings U.K. operations, leading to a crackdown on the trading firm  via \n",
      "\n",
      "17)Bitcoin infrastructure firm Blockstream raises $210 million in a new deal valuing the company at $3.2 billion  via \n",
      "\n",
      "18): Visa just spent $150,000 on a CryptoPunk NFT, lending legitimacy to the digital asset class \n",
      "\n",
      "19): Traditional financial institutions will never go back to business as usual. How have they evolved over the course of the…\n",
      "\n"
     ]
    }
   ],
   "source": [
    "#Negative Tweets \n",
    "\n",
    "j=1\n",
    "sortedDF = df.sort_values(by=['Polarity'], ascending='False')\n",
    "\n",
    "for i in range(0,sortedDF.shape[0]):\n",
    "    if(sortedDF['Analysis'][i] == 'Negative'):\n",
    "        print(str(j) +')'+ sortedDF['Tweets'][i])\n",
    "        print()\n",
    "        j=j+1\n",
    "    \n"
   ]
  },
  {
   "cell_type": "code",
   "execution_count": null,
   "metadata": {},
   "outputs": [],
   "source": []
  },
  {
   "cell_type": "code",
   "execution_count": 68,
   "metadata": {},
   "outputs": [
    {
     "data": {
      "image/png": "[encoded data removed]",
      "text/plain": [
       "<Figure size 576x432 with 1 Axes>"
      ]
     },
     "metadata": {
      "needs_background": "light"
     },
     "output_type": "display_data"
    }
   ],
   "source": [
    "plt.figure(figsize=(8,6))\n",
    "for i in range(0,df.shape[0]):\n",
    "    plt.scatter(df['Polarity'][i], df['Subjectivity'][i] , color ='Red')\n",
    "    \n",
    "plt.title('Sentimental Analysis')\n",
    "plt.xlabel('Polarity')\n",
    "plt.ylabel('Subjectivity')\n",
    "plt.show()"
   ]
  },
  {
   "cell_type": "code",
   "execution_count": 73,
   "metadata": {},
   "outputs": [
    {
     "name": "stdout",
     "output_type": "stream",
     "text": [
      "Positive Tweets\n"
     ]
    },
    {
     "data": {
      "text/plain": [
       "43.0"
      ]
     },
     "execution_count": 73,
     "metadata": {},
     "output_type": "execute_result"
    }
   ],
   "source": [
    "#Tweets in %\n",
    "\n",
    "ptweets = df[df.Analysis == \"Positive\"]\n",
    "ptweets = ptweets['Tweets']\n",
    "print('Positive Tweets')\n",
    "round( ( ptweets.shape[0] / df.shape[0]) * 100 , 1)\n",
    "\n"
   ]
  },
  {
   "cell_type": "code",
   "execution_count": 75,
   "metadata": {},
   "outputs": [
    {
     "name": "stdout",
     "output_type": "stream",
     "text": [
      "Negative Tweets\n"
     ]
    },
    {
     "data": {
      "text/plain": [
       "19.0"
      ]
     },
     "execution_count": 75,
     "metadata": {},
     "output_type": "execute_result"
    }
   ],
   "source": [
    "ntweets = df[df.Analysis == \"Negative\"]\n",
    "ntweets = ntweets['Tweets']\n",
    "print('Negative Tweets')\n",
    "\n",
    "round( ( ntweets.shape[0] / df.shape[0]) * 100 , 1)\n"
   ]
  },
  {
   "cell_type": "code",
   "execution_count": 78,
   "metadata": {},
   "outputs": [
    {
     "data": {
      "image/png": "[encoded data removed]",
      "text/plain": [
       "<Figure size 432x288 with 1 Axes>"
      ]
     },
     "metadata": {
      "needs_background": "light"
     },
     "output_type": "display_data"
    }
   ],
   "source": [
    "df['Analysis'].value_counts()\n",
    "\n",
    "plt.title('Sentimental Analysis')\n",
    "plt.xlabel('Sentiment')\n",
    "plt.ylabel('Counts')\n",
    "\n",
    "df['Analysis'].value_counts().plot(kind='bar')\n",
    "plt.show()\n",
    "\n"
   ]
  },
  {
   "cell_type": "code",
   "execution_count": null,
   "metadata": {},
   "outputs": [],
   "source": []
  }
 ],
 "metadata": {
  "interpreter": {
   "hash": "0b8cf21f0730725596f8d2f33738f951227222cdfbc5cd489f73426d8adf1165"
  },
  "kernelspec": {
   "display_name": "Python 3.9.6 64-bit",
   "name": "python3"
  },
  "language_info": {
   "codemirror_mode": {
    "name": "ipython",
    "version": 3
   },
   "file_extension": ".py",
   "mimetype": "text/x-python",
   "name": "python",
   "nbconvert_exporter": "python",
   "pygments_lexer": "ipython3",
   "version": "3.9.6"
  }
 },
 "nbformat": 4,
 "nbformat_minor": 4
}
